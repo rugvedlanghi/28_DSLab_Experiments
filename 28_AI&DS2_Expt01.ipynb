{
  "nbformat": 4,
  "nbformat_minor": 0,
  "metadata": {
    "colab": {
      "provenance": []
    },
    "kernelspec": {
      "name": "python3",
      "display_name": "Python 3"
    },
    "language_info": {
      "name": "python"
    }
  },
  "cells": [
    {
      "cell_type": "code",
      "execution_count": null,
      "metadata": {
        "colab": {
          "base_uri": "https://localhost:8080/"
        },
        "id": "wThP7CkOWPO9",
        "outputId": "be4f692c-2632-4444-bf0c-d6c7fa1ff029"
      },
      "outputs": [
        {
          "output_type": "stream",
          "name": "stdout",
          "text": [
            "Collecting pgmpy\n",
            "  Downloading pgmpy-0.1.24-py3-none-any.whl (2.0 MB)\n",
            "\u001b[2K     \u001b[90m━━━━━━━━━━━━━━━━━━━━━━━━━━━━━━━━━━━━━━━━\u001b[0m \u001b[32m2.0/2.0 MB\u001b[0m \u001b[31m12.2 MB/s\u001b[0m eta \u001b[36m0:00:00\u001b[0m\n",
            "\u001b[?25hRequirement already satisfied: networkx in /usr/local/lib/python3.10/dist-packages (from pgmpy) (3.1)\n",
            "Requirement already satisfied: numpy in /usr/local/lib/python3.10/dist-packages (from pgmpy) (1.23.5)\n",
            "Requirement already satisfied: scipy in /usr/local/lib/python3.10/dist-packages (from pgmpy) (1.11.3)\n",
            "Requirement already satisfied: scikit-learn in /usr/local/lib/python3.10/dist-packages (from pgmpy) (1.2.2)\n",
            "Requirement already satisfied: pandas in /usr/local/lib/python3.10/dist-packages (from pgmpy) (1.5.3)\n",
            "Requirement already satisfied: pyparsing in /usr/local/lib/python3.10/dist-packages (from pgmpy) (3.1.1)\n",
            "Requirement already satisfied: torch in /usr/local/lib/python3.10/dist-packages (from pgmpy) (2.1.0+cu118)\n",
            "Requirement already satisfied: statsmodels in /usr/local/lib/python3.10/dist-packages (from pgmpy) (0.14.0)\n",
            "Requirement already satisfied: tqdm in /usr/local/lib/python3.10/dist-packages (from pgmpy) (4.66.1)\n",
            "Requirement already satisfied: joblib in /usr/local/lib/python3.10/dist-packages (from pgmpy) (1.3.2)\n",
            "Requirement already satisfied: opt-einsum in /usr/local/lib/python3.10/dist-packages (from pgmpy) (3.3.0)\n",
            "Requirement already satisfied: python-dateutil>=2.8.1 in /usr/local/lib/python3.10/dist-packages (from pandas->pgmpy) (2.8.2)\n",
            "Requirement already satisfied: pytz>=2020.1 in /usr/local/lib/python3.10/dist-packages (from pandas->pgmpy) (2023.3.post1)\n",
            "Requirement already satisfied: threadpoolctl>=2.0.0 in /usr/local/lib/python3.10/dist-packages (from scikit-learn->pgmpy) (3.2.0)\n",
            "Requirement already satisfied: patsy>=0.5.2 in /usr/local/lib/python3.10/dist-packages (from statsmodels->pgmpy) (0.5.3)\n",
            "Requirement already satisfied: packaging>=21.3 in /usr/local/lib/python3.10/dist-packages (from statsmodels->pgmpy) (23.2)\n",
            "Requirement already satisfied: filelock in /usr/local/lib/python3.10/dist-packages (from torch->pgmpy) (3.12.4)\n",
            "Requirement already satisfied: typing-extensions in /usr/local/lib/python3.10/dist-packages (from torch->pgmpy) (4.5.0)\n",
            "Requirement already satisfied: sympy in /usr/local/lib/python3.10/dist-packages (from torch->pgmpy) (1.12)\n",
            "Requirement already satisfied: jinja2 in /usr/local/lib/python3.10/dist-packages (from torch->pgmpy) (3.1.2)\n",
            "Requirement already satisfied: fsspec in /usr/local/lib/python3.10/dist-packages (from torch->pgmpy) (2023.6.0)\n",
            "Requirement already satisfied: triton==2.1.0 in /usr/local/lib/python3.10/dist-packages (from torch->pgmpy) (2.1.0)\n",
            "Requirement already satisfied: six in /usr/local/lib/python3.10/dist-packages (from patsy>=0.5.2->statsmodels->pgmpy) (1.16.0)\n",
            "Requirement already satisfied: MarkupSafe>=2.0 in /usr/local/lib/python3.10/dist-packages (from jinja2->torch->pgmpy) (2.1.3)\n",
            "Requirement already satisfied: mpmath>=0.19 in /usr/local/lib/python3.10/dist-packages (from sympy->torch->pgmpy) (1.3.0)\n",
            "Installing collected packages: pgmpy\n",
            "Successfully installed pgmpy-0.1.24\n"
          ]
        }
      ],
      "source": [
        "!pip install pgmpy"
      ]
    },
    {
      "cell_type": "code",
      "source": [
        "# Importing Library\n",
        "#conda install -c ankurankan pgmpy\n",
        "import pgmpy.models\n",
        "import pgmpy.inference\n",
        "from pgmpy.models import BayesianModel\n",
        "from pgmpy.inference import VariableElimination"
      ],
      "metadata": {
        "id": "FU8H2dj3WaTc"
      },
      "execution_count": null,
      "outputs": []
    },
    {
      "cell_type": "code",
      "source": [
        "#seven Python classes:\n",
        "from collections import defaultdict, Counter\n",
        "import itertools\n",
        "import math\n",
        "import random\n",
        "\n",
        "class BayesNet(object):\n",
        "    \"Bayesian network: a graph of variables connected by parent links.\"\n",
        "\n",
        "    def __init__(self):\n",
        "        self.variables = [] # List of variables, in parent-first topological sort order\n",
        "        self.lookup = {}    # Mapping of {variable_name: variable} pairs\n",
        "\n",
        "    def add(self, name, parentnames, cpt):\n",
        "        \"Add a new Variable to the BayesNet. Parentnames must have been added previously.\"\n",
        "        parents = [self.lookup[name] for name in parentnames]\n",
        "        var = Variable(name, cpt, parents)\n",
        "        self.variables.append(var)\n",
        "        self.lookup[name] = var\n",
        "        return self\n",
        "\n",
        "class Variable(object):\n",
        "    \"A discrete random variable; conditional on zero or more parent Variables.\"\n",
        "\n",
        "    def __init__(self, name, cpt, parents=()):\n",
        "        \"A variable has a name, list of parent variables, and a Conditional Probability Table.\"\n",
        "        self.__name__ = name\n",
        "        self.parents  = parents\n",
        "        self.cpt      = CPTable(cpt, parents)\n",
        "        self.domain   = set(itertools.chain(*self.cpt.values())) # All the outcomes in the CPT\n",
        "\n",
        "    def __repr__(self): return self.__name__\n",
        "\n",
        "class Factor(dict): \"An {outcome: frequency} mapping.\"\n",
        "\n",
        "class ProbDist(Factor):\n",
        "    \"\"\"A Probability Distribution is an {outcome: probability} mapping.\n",
        "    The values are normalized to sum to 1.\n",
        "    ProbDist(0.75) is an abbreviation for ProbDist({T: 0.75, F: 0.25}).\"\"\"\n",
        "    def __init__(self, mapping=(), **kwargs):\n",
        "        if isinstance(mapping, float):\n",
        "            mapping = {T: mapping, F: 1 - mapping}\n",
        "        self.update(mapping, **kwargs)\n",
        "        normalize(self)\n",
        "\n",
        "class Evidence(dict):\n",
        "    \"A {variable: value} mapping, describing what we know for sure.\"\n",
        "\n",
        "class CPTable(dict):\n",
        "    \"A mapping of {row: ProbDist, ...} where each row is a tuple of values of the parent variables.\"\n",
        "\n",
        "    def __init__(self, mapping, parents=()):\n",
        "        \"\"\"Provides two shortcuts for writing a Conditional Probability Table.\n",
        "        With no parents, CPTable(dist) means CPTable({(): dist}).\n",
        "        With one parent, CPTable({val: dist,...}) means CPTable({(val,): dist,...}).\"\"\"\n",
        "        if len(parents) == 0 and not (isinstance(mapping, dict) and set(mapping.keys()) == {()}):\n",
        "            mapping = {(): mapping}\n",
        "        for (row, dist) in mapping.items():\n",
        "            if len(parents) == 1 and not isinstance(row, tuple):\n",
        "                row = (row,)\n",
        "            self[row] = ProbDist(dist)\n",
        "\n",
        "class Bool(int):\n",
        "    \"Just like `bool`, except values display as 'T' and 'F' instead of 'True' and 'False'\"\n",
        "    __str__ = __repr__ = lambda self: 'T' if self else 'F'\n",
        "\n",
        "T = Bool(True)\n",
        "F = Bool(False)"
      ],
      "metadata": {
        "id": "nS5ZvjhkWcNC"
      },
      "execution_count": null,
      "outputs": []
    },
    {
      "cell_type": "code",
      "source": [
        "#And here are some associated functions:\n",
        "def P(var, evidence={}):\n",
        "    \"The probability distribution for P(variable | evidence), when all parent variables are known (in evidence).\"\n",
        "    row = tuple(evidence[parent] for parent in var.parents)\n",
        "    return var.cpt[row]\n",
        "\n",
        "def normalize(dist):\n",
        "    \"Normalize a {key: value} distribution so values sum to 1.0. Mutates dist and returns it.\"\n",
        "    total = sum(dist.values())\n",
        "    for key in dist:\n",
        "        dist[key] = dist[key] / total\n",
        "        assert 0 <= dist[key] <= 1, \"Probabilities must be between 0 and 1.\"\n",
        "    return dist\n",
        "\n",
        "def sample(probdist):\n",
        "    \"Randomly sample an outcome from a probability distribution.\"\n",
        "    r = random.random() # r is a random point in the probability distribution\n",
        "    c = 0.0             # c is the cumulative probability of outcomes seen so far\n",
        "    for outcome in probdist:\n",
        "        c += probdist[outcome]\n",
        "        if r <= c:\n",
        "            return outcome\n",
        "\n",
        "def globalize(mapping):\n",
        "    \"Given a {name: value} mapping, export all the names to the `globals()` namespace.\"\n",
        "    globals().update(mapping)"
      ],
      "metadata": {
        "id": "8wa13CNQWcFK"
      },
      "execution_count": null,
      "outputs": []
    },
    {
      "cell_type": "code",
      "source": [
        "def joint_distribution(net):\n",
        "    \"Given a Bayes net, create the joint distribution over all variables.\"\n",
        "    return ProbDist({row: prod(P_xi_given_parents(var, row, net)\n",
        "                               for var in net.variables)\n",
        "                     for row in all_rows(net)})\n",
        "\n",
        "def all_rows(net): return itertools.product(*[var.domain for var in net.variables])\n",
        "\n",
        "def P_xi_given_parents(var, row, net):\n",
        "    \"The probability that var = xi, given the values in this row.\"\n",
        "    dist = P(var, Evidence(zip(net.variables, row)))\n",
        "    xi = row[net.variables.index(var)]\n",
        "    return dist[xi]\n",
        "\n",
        "def prod(numbers):\n",
        "    \"The product of numbers: prod([2, 3, 5]) == 30. Analogous to `sum([2, 3, 5]) == 10`.\"\n",
        "    result = 1\n",
        "    for x in numbers:\n",
        "        result *= x\n",
        "    return result"
      ],
      "metadata": {
        "id": "coYSP5MSWfnD"
      },
      "execution_count": null,
      "outputs": []
    },
    {
      "cell_type": "code",
      "source": [
        "# Defining network structure\n",
        "alarm_net = (BayesNet()\n",
        "    .add('Burglary', [], {T:0.001,F:0.999})\n",
        "    .add('Earthquake', [], {T:0.002,F:0.998})\n",
        "    .add('Alarm', ['Burglary', 'Earthquake'], {(T, T): 0.95, (T, F): 0.94, (F, T): 0.29, (F, F): 0.001})\n",
        "    .add('JohnCalls', ['Alarm'], {T: 0.90, F: 0.05})\n",
        "    .add('MaryCalls', ['Alarm'], {T: 0.70, F: 0.01}))"
      ],
      "metadata": {
        "id": "T3XXsYg-Wh-V"
      },
      "execution_count": null,
      "outputs": []
    },
    {
      "cell_type": "code",
      "source": [
        "# Make Burglary, Earthquake, etc. be global variables\n",
        "globalize(alarm_net.lookup)\n",
        "alarm_net.variables"
      ],
      "metadata": {
        "colab": {
          "base_uri": "https://localhost:8080/"
        },
        "id": "DH4a4HXKWh0d",
        "outputId": "d9b2df5f-bca9-4209-eb68-33623d3fcaf6"
      },
      "execution_count": null,
      "outputs": [
        {
          "output_type": "execute_result",
          "data": {
            "text/plain": [
              "[Burglary, Earthquake, Alarm, JohnCalls, MaryCalls]"
            ]
          },
          "metadata": {},
          "execution_count": 7
        }
      ]
    },
    {
      "cell_type": "code",
      "source": [
        "# Probability distribution of a Burglary\n",
        "P(Burglary)"
      ],
      "metadata": {
        "colab": {
          "base_uri": "https://localhost:8080/"
        },
        "id": "Uo2UdObGWkm5",
        "outputId": "93c91818-ed47-406f-85ae-c615eb83bac6"
      },
      "execution_count": null,
      "outputs": [
        {
          "output_type": "execute_result",
          "data": {
            "text/plain": [
              "{T: 0.001, F: 0.999}"
            ]
          },
          "metadata": {},
          "execution_count": 8
        }
      ]
    },
    {
      "cell_type": "code",
      "source": [
        "# Probability distribution of a Earthquake\n",
        "P(Earthquake)"
      ],
      "metadata": {
        "colab": {
          "base_uri": "https://localhost:8080/"
        },
        "id": "vj19qnrdWlI8",
        "outputId": "e4a31c8d-2a05-45da-e56b-b1dcc4bfaff2"
      },
      "execution_count": null,
      "outputs": [
        {
          "output_type": "execute_result",
          "data": {
            "text/plain": [
              "{T: 0.002, F: 0.998}"
            ]
          },
          "metadata": {},
          "execution_count": 9
        }
      ]
    },
    {
      "cell_type": "code",
      "source": [
        "# Probability of Alarm going off, given a Burglary and not an Earthquake:\n",
        "P(Alarm, {Burglary: T, Earthquake: F})"
      ],
      "metadata": {
        "colab": {
          "base_uri": "https://localhost:8080/"
        },
        "id": "gSG2N2zJWoAP",
        "outputId": "bb6a1132-03c6-4822-f489-74fb75ee2859"
      },
      "execution_count": null,
      "outputs": [
        {
          "output_type": "execute_result",
          "data": {
            "text/plain": [
              "{T: 0.94, F: 0.06000000000000005}"
            ]
          },
          "metadata": {},
          "execution_count": 10
        }
      ]
    },
    {
      "cell_type": "code",
      "source": [
        "# Where that came from: the (T, F) row of Alarm's CPT:\n",
        "Alarm.cpt"
      ],
      "metadata": {
        "colab": {
          "base_uri": "https://localhost:8080/"
        },
        "id": "wfuoJB16Wp6k",
        "outputId": "e29c5f07-05e8-4edf-f9a9-8537aa171664"
      },
      "execution_count": null,
      "outputs": [
        {
          "output_type": "execute_result",
          "data": {
            "text/plain": [
              "{(T, T): {T: 0.95, F: 0.050000000000000044},\n",
              " (T, F): {T: 0.94, F: 0.06000000000000005},\n",
              " (F, T): {T: 0.29, F: 0.71},\n",
              " (F, F): {T: 0.001, F: 0.999}}"
            ]
          },
          "metadata": {},
          "execution_count": 11
        }
      ]
    },
    {
      "cell_type": "code",
      "source": [
        "# Probability of Mary Calls, given  Alarm is raised:\n",
        "P(MaryCalls, {Alarm: T})"
      ],
      "metadata": {
        "colab": {
          "base_uri": "https://localhost:8080/"
        },
        "id": "QLpi9ztVWpyC",
        "outputId": "ab0f5f6d-d456-4470-c3bf-1f7d36e26330"
      },
      "execution_count": null,
      "outputs": [
        {
          "output_type": "execute_result",
          "data": {
            "text/plain": [
              "{T: 0.7, F: 0.30000000000000004}"
            ]
          },
          "metadata": {},
          "execution_count": 12
        }
      ]
    },
    {
      "cell_type": "code",
      "source": [
        "# Probability of John Calls, given  Alarm is raised:\n",
        "P(JohnCalls, {Alarm: T})"
      ],
      "metadata": {
        "colab": {
          "base_uri": "https://localhost:8080/"
        },
        "id": "Yr2iJVAEWsAQ",
        "outputId": "01bfc414-14b2-4b24-a9d6-0ab3a7f3bed6"
      },
      "execution_count": null,
      "outputs": [
        {
          "output_type": "execute_result",
          "data": {
            "text/plain": [
              "{T: 0.9, F: 0.09999999999999998}"
            ]
          },
          "metadata": {},
          "execution_count": 13
        }
      ]
    },
    {
      "cell_type": "code",
      "source": [
        "MaryCalls.cpt"
      ],
      "metadata": {
        "colab": {
          "base_uri": "https://localhost:8080/"
        },
        "id": "RUCY3V5GWry-",
        "outputId": "d415ff20-d859-499a-e066-fa9bd991df62"
      },
      "execution_count": null,
      "outputs": [
        {
          "output_type": "execute_result",
          "data": {
            "text/plain": [
              "{(T,): {T: 0.7, F: 0.30000000000000004}, (F,): {T: 0.01, F: 0.99}}"
            ]
          },
          "metadata": {},
          "execution_count": 14
        }
      ]
    },
    {
      "cell_type": "code",
      "source": [
        "JohnCalls.cpt"
      ],
      "metadata": {
        "colab": {
          "base_uri": "https://localhost:8080/"
        },
        "id": "FWZ6m19yWv_A",
        "outputId": "0c1f51c0-3d78-430d-cb46-efe44e4d316c"
      },
      "execution_count": null,
      "outputs": [
        {
          "output_type": "execute_result",
          "data": {
            "text/plain": [
              "{(T,): {T: 0.9, F: 0.09999999999999998}, (F,): {T: 0.05, F: 0.95}}"
            ]
          },
          "metadata": {},
          "execution_count": 15
        }
      ]
    },
    {
      "cell_type": "code",
      "source": [
        "# All rows in the joint distribution (2**5 == 32 rows)\n",
        "set(all_rows(alarm_net))"
      ],
      "metadata": {
        "colab": {
          "base_uri": "https://localhost:8080/"
        },
        "id": "1Sbaf-sCWxa9",
        "outputId": "751c8c65-3423-410a-bb42-a71c5977bf7c"
      },
      "execution_count": null,
      "outputs": [
        {
          "output_type": "execute_result",
          "data": {
            "text/plain": [
              "{(F, F, F, F, F),\n",
              " (F, F, F, F, T),\n",
              " (F, F, F, T, F),\n",
              " (F, F, F, T, T),\n",
              " (F, F, T, F, F),\n",
              " (F, F, T, F, T),\n",
              " (F, F, T, T, F),\n",
              " (F, F, T, T, T),\n",
              " (F, T, F, F, F),\n",
              " (F, T, F, F, T),\n",
              " (F, T, F, T, F),\n",
              " (F, T, F, T, T),\n",
              " (F, T, T, F, F),\n",
              " (F, T, T, F, T),\n",
              " (F, T, T, T, F),\n",
              " (F, T, T, T, T),\n",
              " (T, F, F, F, F),\n",
              " (T, F, F, F, T),\n",
              " (T, F, F, T, F),\n",
              " (T, F, F, T, T),\n",
              " (T, F, T, F, F),\n",
              " (T, F, T, F, T),\n",
              " (T, F, T, T, F),\n",
              " (T, F, T, T, T),\n",
              " (T, T, F, F, F),\n",
              " (T, T, F, F, T),\n",
              " (T, T, F, T, F),\n",
              " (T, T, F, T, T),\n",
              " (T, T, T, F, F),\n",
              " (T, T, T, F, T),\n",
              " (T, T, T, T, F),\n",
              " (T, T, T, T, T)}"
            ]
          },
          "metadata": {},
          "execution_count": 16
        }
      ]
    },
    {
      "cell_type": "code",
      "source": [
        "# The full joint distribution:\n",
        "joint_distribution(alarm_net)"
      ],
      "metadata": {
        "colab": {
          "base_uri": "https://localhost:8080/"
        },
        "id": "QRNZUsOkWy3A",
        "outputId": "169d1e1a-0f19-4bee-f722-9251d0c4d3ea"
      },
      "execution_count": null,
      "outputs": [
        {
          "output_type": "execute_result",
          "data": {
            "text/plain": [
              "{(F, F, F, F, F): 0.9367427006190001,\n",
              " (F, F, F, F, T): 0.009462047481000001,\n",
              " (F, F, F, T, F): 0.04930224740100002,\n",
              " (F, F, F, T, T): 0.0004980024990000002,\n",
              " (F, F, T, F, F): 2.9910060000000004e-05,\n",
              " (F, F, T, F, T): 6.979013999999999e-05,\n",
              " (F, F, T, T, F): 0.00026919054000000005,\n",
              " (F, F, T, T, T): 0.00062811126,\n",
              " (F, T, F, F, F): 0.0013341744900000002,\n",
              " (F, T, F, F, T): 1.3476510000000005e-05,\n",
              " (F, T, F, T, F): 7.021971000000001e-05,\n",
              " (F, T, F, T, T): 7.092900000000001e-07,\n",
              " (F, T, T, F, F): 1.7382600000000002e-05,\n",
              " (F, T, T, F, T): 4.0559399999999997e-05,\n",
              " (F, T, T, T, F): 0.00015644340000000006,\n",
              " (F, T, T, T, T): 0.00036503460000000007,\n",
              " (T, F, F, F, F): 5.631714000000006e-05,\n",
              " (T, F, F, F, T): 5.688600000000006e-07,\n",
              " (T, F, F, T, F): 2.9640600000000033e-06,\n",
              " (T, F, F, T, T): 2.9940000000000035e-08,\n",
              " (T, F, T, F, F): 2.8143600000000003e-05,\n",
              " (T, F, T, F, T): 6.56684e-05,\n",
              " (T, F, T, T, F): 0.0002532924000000001,\n",
              " (T, F, T, T, T): 0.0005910156000000001,\n",
              " (T, T, F, F, F): 9.40500000000001e-08,\n",
              " (T, T, F, F, T): 9.50000000000001e-10,\n",
              " (T, T, F, T, F): 4.9500000000000054e-09,\n",
              " (T, T, F, T, T): 5.0000000000000066e-11,\n",
              " (T, T, T, F, F): 5.7e-08,\n",
              " (T, T, T, F, T): 1.3299999999999996e-07,\n",
              " (T, T, T, T, F): 5.130000000000002e-07,\n",
              " (T, T, T, T, T): 1.1970000000000001e-06}"
            ]
          },
          "metadata": {},
          "execution_count": 17
        }
      ]
    },
    {
      "cell_type": "code",
      "source": [
        "# Probability that \"the alarm has sounded, but neither a burglary nor an earthquake has occurred,\n",
        "# and both John and Mary call\"\n",
        "\n",
        "print(alarm_net.variables)\n",
        "joint_distribution(alarm_net)[F, F, T, T, T]"
      ],
      "metadata": {
        "colab": {
          "base_uri": "https://localhost:8080/"
        },
        "id": "hKS6I0X_W0wt",
        "outputId": "e71395bb-7726-45bc-9598-1681538860c4"
      },
      "execution_count": null,
      "outputs": [
        {
          "output_type": "stream",
          "name": "stdout",
          "text": [
            "[Burglary, Earthquake, Alarm, JohnCalls, MaryCalls]\n"
          ]
        },
        {
          "output_type": "execute_result",
          "data": {
            "text/plain": [
              "0.00062811126"
            ]
          },
          "metadata": {},
          "execution_count": 18
        }
      ]
    },
    {
      "cell_type": "code",
      "source": [
        "# Probability that \"the alarm has not sounded, but neither a burglary nor an earthquake has occurred,\n",
        "# and both John and Mary call\"\n",
        "\n",
        "print(alarm_net.variables)\n",
        "joint_distribution(alarm_net)[F, F, F, T, T]"
      ],
      "metadata": {
        "colab": {
          "base_uri": "https://localhost:8080/"
        },
        "id": "iiG0IXmpW0iP",
        "outputId": "84e36b75-9879-4698-d077-e20977e47316"
      },
      "execution_count": null,
      "outputs": [
        {
          "output_type": "stream",
          "name": "stdout",
          "text": [
            "[Burglary, Earthquake, Alarm, JohnCalls, MaryCalls]\n"
          ]
        },
        {
          "output_type": "execute_result",
          "data": {
            "text/plain": [
              "0.0004980024990000002"
            ]
          },
          "metadata": {},
          "execution_count": 19
        }
      ]
    }
  ]
}